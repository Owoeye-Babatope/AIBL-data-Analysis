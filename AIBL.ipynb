{
  "cells": [
    {
      "cell_type": "markdown",
      "metadata": {
        "id": "view-in-github",
        "colab_type": "text"
      },
      "source": [
        "<a href=\"https://colab.research.google.com/github/Owoeye-Babatope/AIBL-data-Analysis/blob/main/AIBL.ipynb\" target=\"_parent\"><img src=\"https://colab.research.google.com/assets/colab-badge.svg\" alt=\"Open In Colab\"/></a>"
      ]
    },
    {
      "cell_type": "markdown",
      "metadata": {
        "id": "JyG45Qk3qQLS"
      },
      "source": [
        "# COM 737\n",
        "A notebook is a list of cells. Cells contain either explanatory text or executable code and its output. Click a cell to select it."
      ]
    },
    {
      "cell_type": "code",
      "execution_count": 20,
      "metadata": {
        "cellView": "both",
        "id": "d-S-3nYLQSHb",
        "colab": {
          "base_uri": "https://localhost:8080/"
        },
        "outputId": "128f4d24-e702-4b24-ee54-da6c50920e46"
      },
      "outputs": [
        {
          "output_type": "stream",
          "name": "stderr",
          "text": [
            "/usr/local/lib/python3.7/dist-packages/ipykernel_launcher.py:17: FutureWarning: Passing 'suffixes' which cause duplicate columns {'SITEID_x', 'VISCODE_x'} in the result is deprecated and will raise a MergeError in a future version.\n",
            "/usr/local/lib/python3.7/dist-packages/ipykernel_launcher.py:19: FutureWarning: Passing 'suffixes' which cause duplicate columns {'SITEID_x', 'VISCODE_x'} in the result is deprecated and will raise a MergeError in a future version.\n"
          ]
        },
        {
          "output_type": "execute_result",
          "data": {
            "text/plain": [
              "(77216, 45)"
            ]
          },
          "metadata": {},
          "execution_count": 20
        }
      ],
      "source": [
        "import numpy as np\n",
        "import pandas as pd\n",
        "import matplotlib.pyplot as plt\n",
        "import tensorflow as tf\n",
        "\n",
        "dataID = pd.read_csv('DATADIC(1).csv')\n",
        "Apoe = pd.read_csv(\"aibl_apoeres_01-Jun-2018.csv\")\n",
        "CDR = pd.read_csv(\"aibl_cdr_01-Jun-2018.csv\")\n",
        "Bloodtest = pd.read_csv(\"aibl_labdata_01-Jun-2018.csv\")\n",
        "Medical_History = pd.read_csv(\"aibl_medhist_01-Jun-2018.csv\")\n",
        "MMSE_Score = pd.read_csv(\"aibl_mmse_01-Jun-2018.csv\")\n",
        "LMR_Score = pd.read_csv(\"aibl_neurobat_01-Jun-2018.csv\")\n",
        "\n",
        "\n",
        "merged = pd.merge(Apoe, CDR, how='outer', left_on='RID', right_on='RID')\n",
        "merged = pd.merge(merged, Bloodtest, how='outer', left_on='RID', right_on='RID')\n",
        "merged = pd.merge(merged, Medical_History, how='outer', left_on='RID', right_on='RID')\n",
        "merged = pd.merge(merged, MMSE_Score, how='outer', left_on='RID', right_on='RID')\n",
        "merged = pd.merge(merged, LMR_Score, how='outer', left_on='RID', right_on='RID')\n",
        "merged.shape"
      ]
    },
    {
      "cell_type": "markdown",
      "source": [
        "# New Section"
      ],
      "metadata": {
        "id": "UBYBHLM_ZGx9"
      }
    },
    {
      "cell_type": "code",
      "source": [
        ""
      ],
      "metadata": {
        "id": "iRCPU7ttZmRG"
      },
      "execution_count": null,
      "outputs": []
    }
  ],
  "metadata": {
    "colab": {
      "collapsed_sections": [],
      "name": "Overview of Colaboratory Features",
      "provenance": [],
      "include_colab_link": true
    },
    "kernelspec": {
      "display_name": "Python 3",
      "name": "python3"
    }
  },
  "nbformat": 4,
  "nbformat_minor": 0
}